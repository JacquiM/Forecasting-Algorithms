{
 "cells": [
  {
   "cell_type": "markdown",
   "metadata": {},
   "source": [
    "# Linear Trend Projection\n",
    "\n",
    "### Import Packages"
   ]
  },
  {
   "cell_type": "code",
   "execution_count": 12,
   "metadata": {},
   "outputs": [],
   "source": [
    "import pandas as pd\n",
    "import numpy as np"
   ]
  },
  {
   "cell_type": "markdown",
   "metadata": {},
   "source": [
    "### Import Data"
   ]
  },
  {
   "cell_type": "code",
   "execution_count": 13,
   "metadata": {},
   "outputs": [],
   "source": [
    "df = pd.DataFrame()\n",
    "df_trend_line = pd.DataFrame()\n",
    "\n",
    "df['X'] = [1,2,3,4,5]\n",
    "df['Values'] = [2,4,6,8,10]\n",
    "df['Time'] = ['2018-01-01','2018-02-01','2018-03-01','2018-04-01','2018-05-01']\n",
    "\n",
    "df_trend_line['X'] = df['X']\n",
    "df_trend_line['Values'] = df['Values']\n",
    "df_trend_line['Time'] = df['Time']"
   ]
  },
  {
   "cell_type": "markdown",
   "metadata": {},
   "source": [
    "### Get the sum and mean of x-values (x)\n",
    "\n",
    "x-values refer to your count of time periods. (For example, Years 1 - 10)"
   ]
  },
  {
   "cell_type": "code",
   "execution_count": 14,
   "metadata": {},
   "outputs": [
    {
     "name": "stdout",
     "output_type": "stream",
     "text": [
      "Sum of X = 15\n",
      "Mean of X = 3.0\n"
     ]
    }
   ],
   "source": [
    "sum_x = df_trend_line[\"X\"].sum()\n",
    "\n",
    "mean_x = df_trend_line[\"X\"].mean()\n",
    "\n",
    "print(\"Sum of X = \" + str(sum_x))\n",
    "print(\"Mean of X = \" + str(mean_x))"
   ]
  },
  {
   "cell_type": "markdown",
   "metadata": {},
   "source": [
    "### Get sum and mean of y-values (time)\n",
    "\n",
    "y-values refer to the values that should be used for forecasting"
   ]
  },
  {
   "cell_type": "code",
   "execution_count": 15,
   "metadata": {},
   "outputs": [
    {
     "name": "stdout",
     "output_type": "stream",
     "text": [
      "Sum of Y = 30\n",
      "Mean of Y = 6.0\n"
     ]
    }
   ],
   "source": [
    "sum_y = df_trend_line[\"Values\"].sum()\n",
    "\n",
    "mean_y = df_trend_line[\"Values\"].mean()\n",
    "\n",
    "print(\"Sum of Y = \" + str(sum_y))\n",
    "print(\"Mean of Y = \" + str(mean_y))"
   ]
  },
  {
   "cell_type": "markdown",
   "metadata": {},
   "source": [
    "### Get info to calculate b1"
   ]
  },
  {
   "cell_type": "code",
   "execution_count": 16,
   "metadata": {},
   "outputs": [
    {
     "name": "stdout",
     "output_type": "stream",
     "text": [
      "Sum of (X - mean(x))*(Y - mean(y)) = 20.0\n",
      "Sum of (X - mean(x))^2 = 10.0\n",
      "Sum of (Y - mean(y))^2 = 40.0\n"
     ]
    }
   ],
   "source": [
    "list_num = []\n",
    "list_den = []\n",
    "list_y = []\n",
    "sum_num = 0\n",
    "sum_den = 0\n",
    "sum_y_sqr = 0\n",
    "\n",
    "for X in df_trend_line[\"X\"]:\n",
    "    Y = float(df_trend_line[df_trend_line[\"X\"] == X].Values)\n",
    "    \n",
    "    x_subtract_mean_x = X - mean_x\n",
    "    y_subtract_mean_y = Y - mean_y\n",
    "    \n",
    "    num = x_subtract_mean_x * y_subtract_mean_y\n",
    "    den = x_subtract_mean_x**2\n",
    "    \n",
    "    y_squared = y_subtract_mean_y**2\n",
    "        \n",
    "    sum_num += num\n",
    "    sum_den += den\n",
    "    sum_y_sqr += y_squared\n",
    "    \n",
    "    list_num.append(num)\n",
    "    list_den.append(den)\n",
    "    list_y.append(y_squared)\n",
    "\n",
    "df_trend_line[\"(X - mean(x))*(Y - mean(y))\"] = list_num\n",
    "df_trend_line[\"(X - mean(x))^2\"] = list_den\n",
    "df_trend_line[\"(Y - mean(y))^2\"] = list_y\n",
    "\n",
    "print(\"Sum of (X - mean(x))*(Y - mean(y)) = \" + str(sum_num))\n",
    "print(\"Sum of (X - mean(x))^2 = \" + str(sum_den))\n",
    "print(\"Sum of (Y - mean(y))^2 = \" + str(sum_y_sqr))"
   ]
  },
  {
   "cell_type": "markdown",
   "metadata": {},
   "source": [
    "### Calculate b1"
   ]
  },
  {
   "cell_type": "code",
   "execution_count": 17,
   "metadata": {},
   "outputs": [
    {
     "data": {
      "text/plain": [
       "2.0"
      ]
     },
     "execution_count": 17,
     "metadata": {},
     "output_type": "execute_result"
    }
   ],
   "source": [
    "b1 = sum_num / sum_den\n",
    "\n",
    "b1"
   ]
  },
  {
   "cell_type": "markdown",
   "metadata": {},
   "source": [
    "### Calculate b0"
   ]
  },
  {
   "cell_type": "code",
   "execution_count": 18,
   "metadata": {},
   "outputs": [
    {
     "data": {
      "text/plain": [
       "0.0"
      ]
     },
     "execution_count": 18,
     "metadata": {},
     "output_type": "execute_result"
    }
   ],
   "source": [
    "b0 = mean_y - (b1 * mean_x)\n",
    "\n",
    "b0"
   ]
  },
  {
   "cell_type": "markdown",
   "metadata": {},
   "source": [
    "### Predict Values and Calulate Errors"
   ]
  },
  {
   "cell_type": "code",
   "execution_count": 19,
   "metadata": {},
   "outputs": [],
   "source": [
    "pred_y = []\n",
    "list_error = []\n",
    "list_error_squared = []\n",
    "list_error_actual = []\n",
    "list_variance = []\n",
    "list_demand_forecast = []\n",
    "\n",
    "sum_error = 0\n",
    "sum_error_squared = 0\n",
    "sum_error_actual = 0\n",
    "sum_demand_forecast = 0\n",
    "\n",
    "for quantity in df_trend_line[\"Values\"]:\n",
    "    pred = b0 + (b1 * quantity)\n",
    "    \n",
    "    error = pred - quantity\n",
    "    square_error = error**2\n",
    "    variance = (pred - mean_y)**2\n",
    "    error_actual = error / quantity\n",
    "    error_dem = quantity - pred\n",
    "    \n",
    "    sum_demand_forecast += error_dem\n",
    "    sum_error += error\n",
    "    sum_error_squared += square_error\n",
    "    sum_error_actual += error_actual\n",
    "    \n",
    "    pred_y.append(pred)\n",
    "    list_error.append(error)\n",
    "    list_error_squared.append(square_error)\n",
    "    list_variance.append(variance)\n",
    "    list_error_actual.append(error_actual)\n",
    "    list_demand_forecast.append(error_dem)\n",
    "    \n",
    "df_trend_line[\"Forecasted Value\"] = pred_y\n",
    "df_trend_line[\"Error\"] = list_error\n",
    "df_trend_line[\"Squared Error\"] = list_error_squared\n",
    "df_trend_line[\"Error/Actual\"] = list_error_actual\n",
    "df_trend_line[\"Forecasted - mean(y)\"] = list_variance\n",
    "df_trend_line[\"Residuals\"] = list_demand_forecast"
   ]
  },
  {
   "cell_type": "code",
   "execution_count": 23,
   "metadata": {},
   "outputs": [
    {
     "data": {
      "text/html": [
       "<div>\n",
       "<style scoped>\n",
       "    .dataframe tbody tr th:only-of-type {\n",
       "        vertical-align: middle;\n",
       "    }\n",
       "\n",
       "    .dataframe tbody tr th {\n",
       "        vertical-align: top;\n",
       "    }\n",
       "\n",
       "    .dataframe thead th {\n",
       "        text-align: right;\n",
       "    }\n",
       "</style>\n",
       "<table border=\"1\" class=\"dataframe\">\n",
       "  <thead>\n",
       "    <tr style=\"text-align: right;\">\n",
       "      <th></th>\n",
       "      <th>X</th>\n",
       "      <th>Time</th>\n",
       "      <th>Values</th>\n",
       "      <th>Forecasted Value</th>\n",
       "    </tr>\n",
       "  </thead>\n",
       "  <tbody>\n",
       "    <tr>\n",
       "      <th>0</th>\n",
       "      <td>1</td>\n",
       "      <td>2018-01-01</td>\n",
       "      <td>2</td>\n",
       "      <td>4.0</td>\n",
       "    </tr>\n",
       "    <tr>\n",
       "      <th>1</th>\n",
       "      <td>2</td>\n",
       "      <td>2018-02-01</td>\n",
       "      <td>4</td>\n",
       "      <td>8.0</td>\n",
       "    </tr>\n",
       "    <tr>\n",
       "      <th>2</th>\n",
       "      <td>3</td>\n",
       "      <td>2018-03-01</td>\n",
       "      <td>6</td>\n",
       "      <td>12.0</td>\n",
       "    </tr>\n",
       "    <tr>\n",
       "      <th>3</th>\n",
       "      <td>4</td>\n",
       "      <td>2018-04-01</td>\n",
       "      <td>8</td>\n",
       "      <td>16.0</td>\n",
       "    </tr>\n",
       "    <tr>\n",
       "      <th>4</th>\n",
       "      <td>5</td>\n",
       "      <td>2018-05-01</td>\n",
       "      <td>10</td>\n",
       "      <td>20.0</td>\n",
       "    </tr>\n",
       "  </tbody>\n",
       "</table>\n",
       "</div>"
      ],
      "text/plain": [
       "   X        Time  Values  Forecasted Value\n",
       "0  1  2018-01-01       2               4.0\n",
       "1  2  2018-02-01       4               8.0\n",
       "2  3  2018-03-01       6              12.0\n",
       "3  4  2018-04-01       8              16.0\n",
       "4  5  2018-05-01      10              20.0"
      ]
     },
     "execution_count": 23,
     "metadata": {},
     "output_type": "execute_result"
    }
   ],
   "source": [
    "df_trend_line[['X','Time','Values','Forecasted Value']]"
   ]
  },
  {
   "cell_type": "code",
   "execution_count": null,
   "metadata": {},
   "outputs": [],
   "source": []
  }
 ],
 "metadata": {
  "kernelspec": {
   "display_name": "Python 3",
   "language": "python",
   "name": "python3"
  },
  "language_info": {
   "codemirror_mode": {
    "name": "ipython",
    "version": 3
   },
   "file_extension": ".py",
   "mimetype": "text/x-python",
   "name": "python",
   "nbconvert_exporter": "python",
   "pygments_lexer": "ipython3",
   "version": "3.6.4"
  }
 },
 "nbformat": 4,
 "nbformat_minor": 2
}
